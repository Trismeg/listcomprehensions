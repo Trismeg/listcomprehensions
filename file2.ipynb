{
 "cells": [
  {
   "cell_type": "code",
   "execution_count": 1,
   "metadata": {
    "collapsed": false
   },
   "outputs": [
    {
     "data": {
      "text/plain": [
       "[0.0, 1.0, 1.4142135623730951, 1.7320508075688772, 2.0]"
      ]
     },
     "execution_count": 1,
     "metadata": {},
     "output_type": "execute_result"
    }
   ],
   "source": [
    "[x**0.5 for x in range(100) if x**2<25]"
   ]
  },
  {
   "cell_type": "code",
   "execution_count": 5,
   "metadata": {
    "collapsed": false
   },
   "outputs": [
    {
     "data": {
      "text/plain": [
       "[0.0, 1.0, 1.4142135623730951, 1.7320508075688772, 2.0]"
      ]
     },
     "execution_count": 5,
     "metadata": {},
     "output_type": "execute_result"
    }
   ],
   "source": [
    "L=[]\n",
    "for x in range(100):\n",
    "    if x**2<25:\n",
    "        L.append(x**0.5)\n",
    "L"
   ]
  },
  {
   "cell_type": "code",
   "execution_count": 10,
   "metadata": {
    "collapsed": false
   },
   "outputs": [
    {
     "data": {
      "text/plain": [
       "[0.0, 1.0, 1.4142135623730951, 1.7320508075688772, 2.0]"
      ]
     },
     "execution_count": 10,
     "metadata": {},
     "output_type": "execute_result"
    }
   ],
   "source": [
    "M=list(filter(lambda x: x**2 < 25, range(100)))\n",
    "L=list(map(lambda x: x**0.5, M))\n",
    "L"
   ]
  },
  {
   "cell_type": "code",
   "execution_count": 2,
   "metadata": {
    "collapsed": false
   },
   "outputs": [
    {
     "data": {
      "text/plain": [
       "[0.0, 0.25, 0.5, 0.75, 1.0]"
      ]
     },
     "execution_count": 2,
     "metadata": {},
     "output_type": "execute_result"
    }
   ],
   "source": [
    "mx=5\n",
    "[x/(mx-1) for x in range(mx)]\n"
   ]
  },
  {
   "cell_type": "code",
   "execution_count": 7,
   "metadata": {
    "collapsed": false
   },
   "outputs": [
    {
     "data": {
      "text/plain": [
       "[[0.0, 0.25, 0.5, 0.75, 1.0],\n",
       " [0.0, 0.25, 0.5, 0.75, 1.0],\n",
       " [0.0, 0.25, 0.5, 0.75, 1.0],\n",
       " [0.0, 0.25, 0.5, 0.75, 1.0],\n",
       " [0.0, 0.25, 0.5, 0.75, 1.0],\n",
       " [0.0, 0.25, 0.5, 0.75, 1.0]]"
      ]
     },
     "execution_count": 7,
     "metadata": {},
     "output_type": "execute_result"
    }
   ],
   "source": [
    "mx=5\n",
    "my=6\n",
    "X=[[x/(mx-1) for x in range(mx)] for y in range(my) ]\n",
    "X"
   ]
  },
  {
   "cell_type": "code",
   "execution_count": 13,
   "metadata": {
    "collapsed": false
   },
   "outputs": [
    {
     "data": {
      "text/plain": [
       "[[0.0, 0.0, 0.0, 0.0, 0.0],\n",
       " [0.2, 0.2, 0.2, 0.2, 0.2],\n",
       " [0.4, 0.4, 0.4, 0.4, 0.4],\n",
       " [0.6, 0.6, 0.6, 0.6, 0.6],\n",
       " [0.8, 0.8, 0.8, 0.8, 0.8],\n",
       " [1.0, 1.0, 1.0, 1.0, 1.0]]"
      ]
     },
     "execution_count": 13,
     "metadata": {},
     "output_type": "execute_result"
    }
   ],
   "source": [
    "mx=5\n",
    "my=6\n",
    "Y=[[y/(my-1) for x in range(mx)] for y in range(my) ]\n",
    "Y"
   ]
  },
  {
   "cell_type": "code",
   "execution_count": 16,
   "metadata": {
    "collapsed": false
   },
   "outputs": [
    {
     "data": {
      "text/plain": [
       "400"
      ]
     },
     "execution_count": 16,
     "metadata": {},
     "output_type": "execute_result"
    }
   ],
   "source": [
    "a=[[1,2,3,4,5],\n",
    "   [5,6,7,8,9],\n",
    "  [9,10,11,12,13],\n",
    "  [13,14,15,16,17],\n",
    "  [10,25,40,25,10],\n",
    "  [10,25,40,25,10]]\n",
    "sum([sum(c) for c in a])\n"
   ]
  },
  {
   "cell_type": "code",
   "execution_count": 15,
   "metadata": {
    "collapsed": false
   },
   "outputs": [
    {
     "data": {
      "text/plain": [
       "[[0.0, 0.25, 0.5, 0.75, 1.0],\n",
       " [0.0, 0.25, 0.5, 0.75, 1.0],\n",
       " [0.0, 0.25, 0.5, 0.75, 1.0],\n",
       " [0.0, 0.25, 0.5, 0.75, 1.0],\n",
       " [0.0, 0.25, 0.5, 0.75, 1.0],\n",
       " [0.0, 0.25, 0.5, 0.75, 1.0]]"
      ]
     },
     "execution_count": 15,
     "metadata": {},
     "output_type": "execute_result"
    }
   ],
   "source": [
    "X\n"
   ]
  },
  {
   "cell_type": "code",
   "execution_count": 17,
   "metadata": {
    "collapsed": false
   },
   "outputs": [
    {
     "data": {
      "text/plain": [
       "210.0"
      ]
     },
     "execution_count": 17,
     "metadata": {},
     "output_type": "execute_result"
    }
   ],
   "source": [
    "aX1=sum([sum([a[i][j]*X[i][j] for i in range(my)]) for j in range(mx)])\n",
    "aX1"
   ]
  },
  {
   "cell_type": "code",
   "execution_count": 18,
   "metadata": {
    "collapsed": false
   },
   "outputs": [
    {
     "data": {
      "text/plain": [
       "400"
      ]
     },
     "execution_count": 18,
     "metadata": {},
     "output_type": "execute_result"
    }
   ],
   "source": [
    "a0=sum([sum([a[i][j] for i in range(my)]) for j in range(mx)])\n",
    "a0"
   ]
  },
  {
   "cell_type": "code",
   "execution_count": 19,
   "metadata": {
    "collapsed": false
   },
   "outputs": [
    {
     "data": {
      "text/plain": [
       "148.75"
      ]
     },
     "execution_count": 19,
     "metadata": {},
     "output_type": "execute_result"
    }
   ],
   "source": [
    "aX2=sum([sum([a[i][j]*X[i][j]*X[i][j] for i in range(my)]) for j in range(mx)])\n",
    "aX2"
   ]
  },
  {
   "cell_type": "code",
   "execution_count": 20,
   "metadata": {
    "collapsed": false
   },
   "outputs": [
    {
     "data": {
      "text/plain": [
       "0.525"
      ]
     },
     "execution_count": 20,
     "metadata": {},
     "output_type": "execute_result"
    }
   ],
   "source": [
    "ax=aX1/a0\n",
    "ax"
   ]
  },
  {
   "cell_type": "code",
   "execution_count": 21,
   "metadata": {
    "collapsed": false
   },
   "outputs": [
    {
     "data": {
      "text/plain": [
       "272.0"
      ]
     },
     "execution_count": 21,
     "metadata": {},
     "output_type": "execute_result"
    }
   ],
   "source": [
    "aY1=sum([sum([a[i][j]*Y[i][j] for i in range(my)]) for j in range(mx)])\n",
    "aY1"
   ]
  },
  {
   "cell_type": "code",
   "execution_count": 22,
   "metadata": {
    "collapsed": false
   },
   "outputs": [
    {
     "data": {
      "text/plain": [
       "0.68"
      ]
     },
     "execution_count": 22,
     "metadata": {},
     "output_type": "execute_result"
    }
   ],
   "source": [
    "ay=aY1/a0\n",
    "ay"
   ]
  },
  {
   "cell_type": "code",
   "execution_count": 32,
   "metadata": {
    "collapsed": false
   },
   "outputs": [],
   "source": [
    "P=[[x,y,z] for x in range(1,100) for y in range(x,100) for z in range(y,100) if x**2 + y**2 == z**2]\n"
   ]
  },
  {
   "cell_type": "code",
   "execution_count": 4,
   "metadata": {
    "collapsed": true
   },
   "outputs": [],
   "source": [
    "def centroids(A):\n",
    "    my=len(A)\n",
    "    mx=len(A[0])\n",
    "    A0=sum([sum([A[i][j] for i in range(my)]) for j in range(mx)])\n",
    "    X=[[x/(mx-1) for x in range(mx)] for y in range(my) ]\n",
    "    Y=[[y/(my-1) for x in range(mx)] for y in range(my) ]\n",
    "    AX=sum([sum([A[i][j]*X[i][j] for i in range(my)]) for j in range(mx)])\n",
    "    AY=sum([sum([A[i][j]*Y[i][j] for i in range(my)]) for j in range(mx)])\n",
    "    Ax=AX/A0\n",
    "    Ay=AY/A0\n",
    "    return (Ax,Ay)"
   ]
  },
  {
   "cell_type": "code",
   "execution_count": 15,
   "metadata": {
    "collapsed": false
   },
   "outputs": [
    {
     "data": {
      "text/plain": [
       "(0.6062091503267973, 0.6041083099906629)"
      ]
     },
     "execution_count": 15,
     "metadata": {},
     "output_type": "execute_result"
    }
   ],
   "source": [
    "centroids(P)"
   ]
  },
  {
   "cell_type": "code",
   "execution_count": 14,
   "metadata": {
    "collapsed": false
   },
   "outputs": [
    {
     "data": {
      "text/plain": [
       "(0.6062091503267973, 0.6041083099906629)"
      ]
     },
     "execution_count": 14,
     "metadata": {},
     "output_type": "execute_result"
    }
   ],
   "source": [
    "P=[[x,y,z] for x in range(1,26) for y in range(x,26) for z in range(y,26) if x**2 + y**2 == z**2]\n",
    "centroids(P)\n",
    "\n",
    "\n"
   ]
  },
  {
   "cell_type": "code",
   "execution_count": null,
   "metadata": {
    "collapsed": true
   },
   "outputs": [],
   "source": []
  },
  {
   "cell_type": "code",
   "execution_count": null,
   "metadata": {
    "collapsed": true
   },
   "outputs": [],
   "source": []
  }
 ],
 "metadata": {
  "anaconda-cloud": {},
  "kernelspec": {
   "display_name": "Python [Root]",
   "language": "python",
   "name": "Python [Root]"
  },
  "language_info": {
   "codemirror_mode": {
    "name": "ipython",
    "version": 3
   },
   "file_extension": ".py",
   "mimetype": "text/x-python",
   "name": "python",
   "nbconvert_exporter": "python",
   "pygments_lexer": "ipython3",
   "version": "3.5.2"
  }
 },
 "nbformat": 4,
 "nbformat_minor": 0
}
