{
 "cells": [
  {
   "cell_type": "code",
   "execution_count": 1,
   "metadata": {
    "collapsed": false
   },
   "outputs": [
    {
     "data": {
      "text/plain": [
       "[0.0, 1.0, 1.4142135623730951, 1.7320508075688772, 2.0]"
      ]
     },
     "execution_count": 1,
     "metadata": {},
     "output_type": "execute_result"
    }
   ],
   "source": [
    "[x**0.5 for x in range(100) if x**2<25]"
   ]
  },
  {
   "cell_type": "code",
   "execution_count": 5,
   "metadata": {
    "collapsed": false
   },
   "outputs": [
    {
     "data": {
      "text/plain": [
       "[0.0, 1.0, 1.4142135623730951, 1.7320508075688772, 2.0]"
      ]
     },
     "execution_count": 5,
     "metadata": {},
     "output_type": "execute_result"
    }
   ],
   "source": [
    "L=[]\n",
    "for x in range(100):\n",
    "    if x**2<25:\n",
    "        L.append(x**0.5)\n",
    "L"
   ]
  },
  {
   "cell_type": "code",
   "execution_count": 10,
   "metadata": {
    "collapsed": false
   },
   "outputs": [
    {
     "data": {
      "text/plain": [
       "[0.0, 1.0, 1.4142135623730951, 1.7320508075688772, 2.0]"
      ]
     },
     "execution_count": 10,
     "metadata": {},
     "output_type": "execute_result"
    }
   ],
   "source": [
    "M=list(filter(lambda x: x**2 < 25, range(100)))\n",
    "L=list(map(lambda x: x**0.5, M))\n",
    "L"
   ]
  },
  {
   "cell_type": "code",
   "execution_count": 33,
   "metadata": {
    "collapsed": false
   },
   "outputs": [
    {
     "data": {
      "text/plain": [
       "[0.0, 0.25, 0.5, 0.75, 1.0]"
      ]
     },
     "execution_count": 33,
     "metadata": {},
     "output_type": "execute_result"
    }
   ],
   "source": [
    "mx=5\n",
    "X=[x/(mx-1) for x in range(mx)]\n",
    "X"
   ]
  },
  {
   "cell_type": "code",
   "execution_count": 40,
   "metadata": {
    "collapsed": false
   },
   "outputs": [
    {
     "data": {
      "text/plain": [
       "0.225"
      ]
     },
     "execution_count": 40,
     "metadata": {},
     "output_type": "execute_result"
    }
   ],
   "source": [
    "a=[4,5,0,0,1]\n",
    "a0=sum(a)\n",
    "aX=sum([X[i]*a[i] for i in range(mx)])\n",
    "aX/a0"
   ]
  },
  {
   "cell_type": "code",
   "execution_count": null,
   "metadata": {
    "collapsed": true
   },
   "outputs": [],
   "source": []
  },
  {
   "cell_type": "code",
   "execution_count": 7,
   "metadata": {
    "collapsed": false
   },
   "outputs": [
    {
     "data": {
      "text/plain": [
       "[[0.0, 0.25, 0.5, 0.75, 1.0],\n",
       " [0.0, 0.25, 0.5, 0.75, 1.0],\n",
       " [0.0, 0.25, 0.5, 0.75, 1.0],\n",
       " [0.0, 0.25, 0.5, 0.75, 1.0],\n",
       " [0.0, 0.25, 0.5, 0.75, 1.0],\n",
       " [0.0, 0.25, 0.5, 0.75, 1.0]]"
      ]
     },
     "execution_count": 7,
     "metadata": {},
     "output_type": "execute_result"
    }
   ],
   "source": [
    "mx=5\n",
    "my=6\n",
    "X=[[x/(mx-1) for x in range(mx)] for y in range(my) ]\n",
    "X"
   ]
  },
  {
   "cell_type": "code",
   "execution_count": 13,
   "metadata": {
    "collapsed": false
   },
   "outputs": [
    {
     "data": {
      "text/plain": [
       "[[0.0, 0.0, 0.0, 0.0, 0.0],\n",
       " [0.2, 0.2, 0.2, 0.2, 0.2],\n",
       " [0.4, 0.4, 0.4, 0.4, 0.4],\n",
       " [0.6, 0.6, 0.6, 0.6, 0.6],\n",
       " [0.8, 0.8, 0.8, 0.8, 0.8],\n",
       " [1.0, 1.0, 1.0, 1.0, 1.0]]"
      ]
     },
     "execution_count": 13,
     "metadata": {},
     "output_type": "execute_result"
    }
   ],
   "source": [
    "mx=5\n",
    "my=6\n",
    "Y=[[y/(my-1) for x in range(mx)] for y in range(my) ]\n",
    "Y"
   ]
  },
  {
   "cell_type": "code",
   "execution_count": 16,
   "metadata": {
    "collapsed": false
   },
   "outputs": [
    {
     "data": {
      "text/plain": [
       "400"
      ]
     },
     "execution_count": 16,
     "metadata": {},
     "output_type": "execute_result"
    }
   ],
   "source": [
    "a=[[1,2,3,4,5],\n",
    "   [5,6,7,8,9],\n",
    "  [9,10,11,12,13],\n",
    "  [13,14,15,16,17],\n",
    "  [10,25,40,25,10],\n",
    "  [10,25,40,25,10]]\n",
    "sum([sum(c) for c in a])\n"
   ]
  },
  {
   "cell_type": "code",
   "execution_count": 15,
   "metadata": {
    "collapsed": false
   },
   "outputs": [
    {
     "data": {
      "text/plain": [
       "[[0.0, 0.25, 0.5, 0.75, 1.0],\n",
       " [0.0, 0.25, 0.5, 0.75, 1.0],\n",
       " [0.0, 0.25, 0.5, 0.75, 1.0],\n",
       " [0.0, 0.25, 0.5, 0.75, 1.0],\n",
       " [0.0, 0.25, 0.5, 0.75, 1.0],\n",
       " [0.0, 0.25, 0.5, 0.75, 1.0]]"
      ]
     },
     "execution_count": 15,
     "metadata": {},
     "output_type": "execute_result"
    }
   ],
   "source": [
    "X\n"
   ]
  },
  {
   "cell_type": "code",
   "execution_count": 17,
   "metadata": {
    "collapsed": false
   },
   "outputs": [
    {
     "data": {
      "text/plain": [
       "210.0"
      ]
     },
     "execution_count": 17,
     "metadata": {},
     "output_type": "execute_result"
    }
   ],
   "source": [
    "aX1=sum([sum([a[i][j]*X[i][j] for i in range(my)]) for j in range(mx)])\n",
    "aX1"
   ]
  },
  {
   "cell_type": "code",
   "execution_count": 18,
   "metadata": {
    "collapsed": false
   },
   "outputs": [
    {
     "data": {
      "text/plain": [
       "400"
      ]
     },
     "execution_count": 18,
     "metadata": {},
     "output_type": "execute_result"
    }
   ],
   "source": [
    "a0=sum([sum([a[i][j] for i in range(my)]) for j in range(mx)])\n",
    "a0"
   ]
  },
  {
   "cell_type": "code",
   "execution_count": 19,
   "metadata": {
    "collapsed": false
   },
   "outputs": [
    {
     "data": {
      "text/plain": [
       "148.75"
      ]
     },
     "execution_count": 19,
     "metadata": {},
     "output_type": "execute_result"
    }
   ],
   "source": [
    "aX2=sum([sum([a[i][j]*X[i][j]*X[i][j] for i in range(my)]) for j in range(mx)])\n",
    "aX2"
   ]
  },
  {
   "cell_type": "code",
   "execution_count": 20,
   "metadata": {
    "collapsed": false
   },
   "outputs": [
    {
     "data": {
      "text/plain": [
       "0.525"
      ]
     },
     "execution_count": 20,
     "metadata": {},
     "output_type": "execute_result"
    }
   ],
   "source": [
    "ax=aX1/a0\n",
    "ax"
   ]
  },
  {
   "cell_type": "code",
   "execution_count": 21,
   "metadata": {
    "collapsed": false
   },
   "outputs": [
    {
     "data": {
      "text/plain": [
       "272.0"
      ]
     },
     "execution_count": 21,
     "metadata": {},
     "output_type": "execute_result"
    }
   ],
   "source": [
    "aY1=sum([sum([a[i][j]*Y[i][j] for i in range(my)]) for j in range(mx)])\n",
    "aY1"
   ]
  },
  {
   "cell_type": "code",
   "execution_count": 22,
   "metadata": {
    "collapsed": false
   },
   "outputs": [
    {
     "data": {
      "text/plain": [
       "0.68"
      ]
     },
     "execution_count": 22,
     "metadata": {},
     "output_type": "execute_result"
    }
   ],
   "source": [
    "ay=aY1/a0\n",
    "ay"
   ]
  },
  {
   "cell_type": "code",
   "execution_count": 15,
   "metadata": {
    "collapsed": false
   },
   "outputs": [],
   "source": [
    "P=[[x,y,z] for x in range(1,100) for y in range(x,100) for z in range(y,100) if x**2 + y**2 == z**2]\n"
   ]
  },
  {
   "cell_type": "code",
   "execution_count": 9,
   "metadata": {
    "collapsed": true
   },
   "outputs": [],
   "source": [
    "def centroids(A):\n",
    "    my=len(A)\n",
    "    mx=len(A[0])\n",
    "    A0=sum([sum([A[i][j] for i in range(my)]) for j in range(mx)])\n",
    "    X=[[x/(mx-1) for x in range(mx)] for y in range(my) ]\n",
    "    Y=[[y/(my-1) for x in range(mx)] for y in range(my) ]\n",
    "    AX=sum([sum([A[i][j]*X[i][j] for i in range(my)]) for j in range(mx)])\n",
    "    AY=sum([sum([A[i][j]*Y[i][j] for i in range(my)]) for j in range(mx)])\n",
    "    Ax=AX/A0\n",
    "    Ay=AY/A0\n",
    "    return (Ax,Ay)"
   ]
  },
  {
   "cell_type": "code",
   "execution_count": 16,
   "metadata": {
    "collapsed": false
   },
   "outputs": [
    {
     "data": {
      "text/plain": [
       "(0.6111111111111112, 0.6151167426677631)"
      ]
     },
     "execution_count": 16,
     "metadata": {},
     "output_type": "execute_result"
    }
   ],
   "source": [
    "centroids(P)"
   ]
  },
  {
   "cell_type": "code",
   "execution_count": 29,
   "metadata": {
    "collapsed": false
   },
   "outputs": [
    {
     "data": {
      "text/plain": [
       "[[3, 4, 5],\n",
       " [5, 12, 13],\n",
       " [6, 8, 10],\n",
       " [7, 24, 25],\n",
       " [8, 15, 17],\n",
       " [9, 12, 15],\n",
       " [12, 16, 20],\n",
       " [15, 20, 25]]"
      ]
     },
     "execution_count": 29,
     "metadata": {},
     "output_type": "execute_result"
    }
   ],
   "source": [
    "P=[[x,y,z] for x in range(1,26) \\\n",
    "   for y in range(x,26) \\\n",
    "   for z in range(y,26) if x**2 + y**2 == z**2]\n",
    "P"
   ]
  },
  {
   "cell_type": "code",
   "execution_count": 19,
   "metadata": {
    "collapsed": false
   },
   "outputs": [
    {
     "data": {
      "text/plain": [
       "[[3, 4, 5], [5, 12, 13], [6, 8, 10], [8, 15, 17], [9, 12, 15]]"
      ]
     },
     "execution_count": 19,
     "metadata": {},
     "output_type": "execute_result"
    }
   ],
   "source": [
    "P\n"
   ]
  },
  {
   "cell_type": "code",
   "execution_count": 22,
   "metadata": {
    "collapsed": false
   },
   "outputs": [
    {
     "data": {
      "text/plain": [
       "(0.6168428878242194, 0.6161335621366104)"
      ]
     },
     "execution_count": 22,
     "metadata": {},
     "output_type": "execute_result"
    }
   ],
   "source": [
    "Q=[[x,y,z] for x in range(1,240) for y in range(x,240) for z in range(y,240) if x**2 + y**2 == z**2]\n",
    "centroids(Q)"
   ]
  },
  {
   "cell_type": "code",
   "execution_count": 58,
   "metadata": {
    "collapsed": false
   },
   "outputs": [
    {
     "data": {
      "text/plain": [
       "[('hi', 10), ('zip', 7), ('he', 7), ('we', 5), ('so', 4)]"
      ]
     },
     "execution_count": 58,
     "metadata": {},
     "output_type": "execute_result"
    }
   ],
   "source": [
    "words=['hi','yo','so','hey','he','is','to','we','zip','zap']\n",
    "freq=[10,1,4,1,7,1,1,5,7,1]\n",
    "srt=sorted([(elem,i) for i,elem in enumerate(B) if elem != 1])\n",
    "top=[(words[r[1]],r[0]) for r in reversed(R)]\n",
    "top"
   ]
  },
  {
   "cell_type": "code",
   "execution_count": 59,
   "metadata": {
    "collapsed": false
   },
   "outputs": [
    {
     "data": {
      "text/plain": [
       "[(4, 2), (5, 7), (7, 4), (7, 8), (10, 0)]"
      ]
     },
     "execution_count": 59,
     "metadata": {},
     "output_type": "execute_result"
    }
   ],
   "source": [
    "\n"
   ]
  },
  {
   "cell_type": "code",
   "execution_count": 67,
   "metadata": {
    "collapsed": false
   },
   "outputs": [
    {
     "data": {
      "text/plain": [
       "[('hi', 10), ('zip', 7), ('he', 7), ('we', 5), ('so', 4)]"
      ]
     },
     "execution_count": 67,
     "metadata": {},
     "output_type": "execute_result"
    }
   ],
   "source": [
    "dic={'hi':10,\n",
    "     'yo':1,\n",
    "     'so':4,\n",
    "     'hey':1,\n",
    "     'he':7,\n",
    "     'is':1,\n",
    "     'to':1,\n",
    "     'we':5,\n",
    "     'zip':7,\n",
    "     'zap':1}\n",
    "dSorted=sorted([(dic[i],i) for i in dic if dic[i] != 1])\n",
    "top=[(r[1],r[0]) for r in reversed(dSorted)]\n",
    "top\n"
   ]
  },
  {
   "cell_type": "code",
   "execution_count": 62,
   "metadata": {
    "collapsed": false
   },
   "outputs": [
    {
     "data": {
      "text/plain": [
       "[(4, 'so'), (5, 'we'), (7, 'he'), (7, 'zip'), (10, 'hi')]"
      ]
     },
     "execution_count": 62,
     "metadata": {},
     "output_type": "execute_result"
    }
   ],
   "source": [
    "\n"
   ]
  },
  {
   "cell_type": "code",
   "execution_count": 79,
   "metadata": {
    "collapsed": false
   },
   "outputs": [],
   "source": [
    "text = 'it was the best of times it was the worst of times \\\n",
    "        yo it is nice to see you and nice to say yo yo to you \\\n",
    "        say you say me say it together and say yo \\\n",
    "        say yo say yo yo to me please oh please yo'\n",
    "wordlist=text.split()\n",
    "histo={}\n",
    "for i in wordlist:\n",
    "    if i in histo:\n",
    "        histo[i] += 1\n",
    "    else:\n",
    "        histo[i] = 1"
   ]
  },
  {
   "cell_type": "code",
   "execution_count": 76,
   "metadata": {
    "collapsed": false
   },
   "outputs": [
    {
     "data": {
      "text/plain": [
       "[('yo', 8),\n",
       " ('say', 7),\n",
       " ('to', 4),\n",
       " ('it', 4),\n",
       " ('you', 3),\n",
       " ('was', 2),\n",
       " ('times', 2),\n",
       " ('the', 2),\n",
       " ('please', 2),\n",
       " ('of', 2),\n",
       " ('nice', 2),\n",
       " ('me', 2),\n",
       " ('and', 2)]"
      ]
     },
     "execution_count": 76,
     "metadata": {},
     "output_type": "execute_result"
    }
   ],
   "source": [
    "dSorted=sorted([(histo[i],i) for i in histo if histo[i] != 1])\n",
    "top=[(r[1],r[0]) for r in reversed(dSorted)]\n",
    "top"
   ]
  },
  {
   "cell_type": "code",
   "execution_count": null,
   "metadata": {
    "collapsed": true
   },
   "outputs": [],
   "source": []
  }
 ],
 "metadata": {
  "anaconda-cloud": {},
  "kernelspec": {
   "display_name": "Python [Root]",
   "language": "python",
   "name": "Python [Root]"
  },
  "language_info": {
   "codemirror_mode": {
    "name": "ipython",
    "version": 3
   },
   "file_extension": ".py",
   "mimetype": "text/x-python",
   "name": "python",
   "nbconvert_exporter": "python",
   "pygments_lexer": "ipython3",
   "version": "3.5.2"
  }
 },
 "nbformat": 4,
 "nbformat_minor": 0
}
